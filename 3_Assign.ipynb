{
 "cells": [
  {
   "cell_type": "markdown",
   "id": "5e430e92",
   "metadata": {},
   "source": [
    "Q1: What is Estimation Statistics? Explain point estimate and interval estimate."
   ]
  },
  {
   "cell_type": "markdown",
   "id": "7423ae2f",
   "metadata": {},
   "source": [
    "Estimation statistics involves using sample data to make inferences or guesses about population parameters. There are two main types of estimation in statistics: point estimate and interval estimate.\n",
    "\n",
    "### Point Estimate:\n",
    "* A point estimate is a single value that serves as the best guess or estimate for a population parameter based on sample data.\n",
    "* It provides a specific and precise estimate of the parameter.\n",
    "* For example, if you calculate the mean (average) salary of a sample of employees and use it as the estimate for the mean salary of all employees in a company, that calculated mean is a point estimate.\n",
    "\n",
    "### Interval Estimate:\n",
    "* An interval estimate, also known as a confidence interval, provides a range of values within which the true population parameter is likely to lie.\n",
    "* It takes into account both a point estimate and a margin of error or confidence level.\n",
    "* Typically, it is represented as an interval with a lower bound and an upper bound.\n",
    "* For example, you might calculate a 95% confidence interval for the average height of a population, which would provide a range of heights within which you are 95% confident the true population mean lies.\n",
    "\n",
    "In Short, estimation statistics involves making educated guesses about population parameters based on sample data. Point estimates provide a single best guess, while interval estimates provide a range of values that likely contains the true parameter value with a certain level of confidence."
   ]
  },
  {
   "cell_type": "markdown",
   "id": "7332c73d",
   "metadata": {},
   "source": []
  },
  {
   "cell_type": "markdown",
   "id": "cbdf49fc",
   "metadata": {},
   "source": [
    "Q2. Write a Python function to estimate the population mean using a sample mean and standard deviation."
   ]
  },
  {
   "cell_type": "code",
   "execution_count": 1,
   "id": "349c4ff7",
   "metadata": {},
   "outputs": [
    {
     "name": "stdout",
     "output_type": "stream",
     "text": [
      "Estimated population mean: 50\n",
      "95% Confidence Interval: (48.04, 51.96)\n"
     ]
    }
   ],
   "source": [
    "def estimate_population_mean(sample_mean, sample_std_dev, sample_size):\n",
    "    # Calculating the standard error (standard deviation of the sample mean)\n",
    "    standard_error = sample_std_dev / (sample_size**0.5)\n",
    "    \n",
    "    z_score = 1.96  # For a 95% confidence interval\n",
    "    \n",
    "    # Calculating the lower and upper bounds of the confidence interval\n",
    "    lower_bound = sample_mean - (z_score * standard_error)\n",
    "    upper_bound = sample_mean + (z_score * standard_error)\n",
    "    \n",
    "    return lower_bound, upper_bound\n",
    "\n",
    "# Example\n",
    "sample_mean = 50  \n",
    "sample_std_dev = 10\n",
    "sample_size = 100\n",
    "\n",
    "lower, upper = estimate_population_mean(sample_mean, sample_std_dev, sample_size)\n",
    "print(f\"Estimated population mean: {sample_mean}\")\n",
    "print(f\"95% Confidence Interval: ({lower}, {upper})\")\n"
   ]
  },
  {
   "cell_type": "markdown",
   "id": "4fabd540",
   "metadata": {},
   "source": []
  },
  {
   "cell_type": "markdown",
   "id": "2619f57d",
   "metadata": {},
   "source": [
    "Q3: What is Hypothesis testing? Why is it used? State the importance of Hypothesis testing"
   ]
  },
  {
   "cell_type": "markdown",
   "id": "b220d9bd",
   "metadata": {},
   "source": [
    "Hypothesis testing is a fundamental statistical method used to make decisions or draw conclusions about a population based on sample data. It involves comparing two opposing statements or hypotheses, the null hypothesis (H0) and the alternative hypothesis (Ha), to determine whether there is enough evidence to reject the null hypothesis in favor of the alternative hypothesis.\n",
    "\n",
    "Hypothesis testing use's and its importance:\n",
    "\n",
    "* Testing Scientific Claims:\n",
    "Hypothesis testing is crucial in scientific research and experimentation. It allows researchers to test and validate their hypotheses or theories by using statistical methods and data analysis.\n",
    "\n",
    "* Decision Making:\n",
    "It helps in making informed decisions in various fields, such as medicine, business, and social sciences. For example, in medicine, hypothesis testing can determine the effectiveness of a new drug by comparing it to a placebo.\n",
    "\n",
    "* Quality Control:\n",
    "In manufacturing and quality control, hypothesis testing is used to ensure product quality and consistency. It helps detect defects or variations in the production process.\n",
    "\n",
    "* Inference About Populations:\n",
    "Hypothesis testing allows us to make inferences about populations based on limited sample data. For example, it can be used to estimate population parameters, like means and proportions.\n",
    "\n",
    "* Problem Solving:\n",
    "In problem-solving and decision-making scenarios, hypothesis testing provides a structured framework for analyzing data and drawing conclusions.\n",
    "\n",
    "* Control of Type I and Type II Errors:\n",
    "Hypothesis testing provides a way to control the risk of making Type I errors (false positives) and Type II errors (false negatives) by setting significance levels and using appropriate sample sizes.\n",
    "\n",
    "In Short, hypothesis testing is a powerful statistical tool used to assess claims, make decisions, and draw meaningful conclusions from data. It is essential for scientific research, decision-making, quality control, and various other applications where data-driven decisions are necessary."
   ]
  },
  {
   "cell_type": "markdown",
   "id": "0e30e701",
   "metadata": {},
   "source": []
  },
  {
   "cell_type": "markdown",
   "id": "88cbef69",
   "metadata": {},
   "source": [
    "Q4. Create a hypothesis that states whether the average weight of male college students is greater than \n",
    "the average weight of female college students."
   ]
  },
  {
   "cell_type": "markdown",
   "id": "a9a28336",
   "metadata": {},
   "source": [
    "##### Null Hypothesis (H0):\n",
    "The average weight of male college students is equal to or less than the average weight of female college students.\n",
    "\n",
    "##### Alternative Hypothesis (Ha):\n",
    "The average weight of male college students is greater than the average weight of female college students.\n",
    "\n",
    "* H0: μ_male ≤ μ_female\n",
    "* Ha: μ_male > μ_female\n",
    "\n",
    "In this hypothesis test, you would collect data on the weights of male and female college students, calculate the sample means for both groups, and perform statistical analysis to determine whether there is enough evidence to reject the null hypothesis in favor of the alternative hypothesis. If the p-value is sufficiently small, you may conclude that the average weight of male college students is indeed greater than that of female college students."
   ]
  },
  {
   "cell_type": "markdown",
   "id": "ea958d97",
   "metadata": {},
   "source": []
  },
  {
   "cell_type": "markdown",
   "id": "4a15c49a",
   "metadata": {},
   "source": [
    "Q5. Write a Python script to conduct a hypothesis test on the difference between two population means, \n",
    "given a sample from each population."
   ]
  },
  {
   "cell_type": "code",
   "execution_count": 2,
   "id": "7c40f3dd",
   "metadata": {},
   "outputs": [
    {
     "name": "stdout",
     "output_type": "stream",
     "text": [
      "Sample 1 Mean: 96.12556351914654\n",
      "Sample 2 Mean: 107.45318625848913\n",
      "t-statistic: -4.469098575879195\n",
      "p-value: 3.699695344127139e-05\n",
      "Reject the null hypothesis - There is a significant difference between the population means.\n"
     ]
    }
   ],
   "source": [
    "import numpy as np\n",
    "from scipy import stats\n",
    "\n",
    "# Generating two random samples \n",
    "sample1 = np.random.normal(100, 10, size=30) \n",
    "sample2 = np.random.normal(105, 12, size=30) \n",
    "\n",
    "# Performing a two-sample t-test\n",
    "t_stat, p_value = stats.ttest_ind(sample1, sample2)\n",
    "\n",
    "alpha = 0.05\n",
    "\n",
    "# Printing the results\n",
    "print(\"Sample 1 Mean:\", np.mean(sample1))\n",
    "print(\"Sample 2 Mean:\", np.mean(sample2))\n",
    "print(\"t-statistic:\", t_stat)\n",
    "print(\"p-value:\", p_value)\n",
    "\n",
    "# Checking if the p-value is less than alpha to determine significance\n",
    "if p_value < alpha:\n",
    "    print(\"Reject the null hypothesis - There is a significant difference between the population means.\")\n",
    "else:\n",
    "    print(\"Fail to reject the null hypothesis - There is no significant difference between the population means.\")\n"
   ]
  },
  {
   "cell_type": "markdown",
   "id": "1422446b",
   "metadata": {},
   "source": []
  },
  {
   "cell_type": "markdown",
   "id": "3d5be272",
   "metadata": {},
   "source": [
    "Q6: What is a null and alternative hypothesis? Give some examples."
   ]
  },
  {
   "cell_type": "markdown",
   "id": "f9b8b0c0",
   "metadata": {},
   "source": [
    "### Null Hypothesis (H0):\n",
    "* The null hypothesis is a statement that suggests no effect, no difference, or no relationship between variables.\n",
    "* It serves as a default assumption to be tested.\n",
    "* Examples:\n",
    "1) H0: The mean test scores of Group A and Group B are equal.\n",
    "2) H0: There is no difference in the effectiveness of Drug X and a placebo.\n",
    "3) H0: The population proportion of voters who support Candidate A is 50%.\n",
    "\n",
    "### Alternative Hypothesis (Ha):\n",
    "* The alternative hypothesis is a statement that contradicts the null hypothesis.\n",
    "* It represents the effect, difference, or relationship you're trying to find evidence for.\n",
    "* Example:\n",
    "1) Ha (two-tailed): The mean test scores of Group A and Group B are not equal.\n",
    "2) Ha (one-tailed, greater than): Drug X is more effective than a placebo.\n",
    "3) Ha (one-tailed, less than): The population proportion of voters who support Candidate A is less than 50%.\n",
    "\n",
    "In Short, the null hypothesis is a statement of no effect or no difference, while the alternative hypothesis is a statement that suggests there is an effect or difference you want to investigate through hypothesis testing."
   ]
  },
  {
   "cell_type": "markdown",
   "id": "8dbde31f",
   "metadata": {},
   "source": []
  },
  {
   "cell_type": "markdown",
   "id": "82714e62",
   "metadata": {},
   "source": [
    "Q7: Write down the steps involved in hypothesis testing."
   ]
  },
  {
   "cell_type": "markdown",
   "id": "0c4702c1",
   "metadata": {},
   "source": [
    "Hypothesis testing is a structured process used in statistics to make informed decisions about population parameters based on sample data.\n",
    "\n",
    "#### Formulate the Null Hypothesis (H0) and Alternative Hypothesis (Ha):\n",
    "* Define the null hypothesis (H0), which represents the default assumption or the statement of no effect, difference, or change.\n",
    "* Formulate the alternative hypothesis (Ha), which represents the statement researchers are trying to find evidence for.\n",
    "* Ensure that the null and alternative hypotheses are mutually exclusive and collectively exhaustive.\n",
    "\n",
    "#### Select the Significance Level (α):\n",
    "* Choose the significance level, denoted as α (alpha), which determines the threshold for statistical significance.\n",
    "* Commonly used significance levels are 0.05 (5%) or 0.01 (1%), indicating a 95% or 99% confidence level, respectively.\n",
    "\n",
    "#### Collect and Analyze Data:\n",
    "* Collect a representative sample from the population of interest.\n",
    "* Perform appropriate statistical analysis based on the type of data (e.g., t-test, chi-squared test, ANOVA) to calculate a test statistic and p-value.\n",
    "\n",
    "#### Calculate the Test Statistic:\n",
    "* Compute a test statistic that quantifies the difference between the sample data and the null hypothesis.\n",
    "* The choice of test statistic depends on the hypothesis test being performed.\n",
    "\n",
    "#### Determine the Critical Region or Rejection Region:\n",
    "* Identify the critical values or critical region of the test statistic based on the chosen significance level and the distribution (e.g., z-distribution, t-distribution) under the null hypothesis.\n",
    "* This defines the region where the null hypothesis will be rejected if the test statistic falls within it.\n",
    "\n",
    "#### Compute the P-Value:\n",
    "* Calculate the p-value, which represents the probability of obtaining a test statistic as extreme as, or more extreme than, the observed value under the null hypothesis.\n",
    "* A smaller p-value suggests stronger evidence against the null hypothesis.\n",
    "\n",
    "#### Make a Decision:\n",
    "* Compare the calculated p-value to the chosen significance level (α).\n",
    "* If the p-value is less than or equal to α, reject the null hypothesis in favor of the alternative hypothesis.\n",
    "* If the p-value is greater than α, fail to reject the null hypothesis.\n",
    "\n",
    "#### Draw a Conclusion:\n",
    "* Based on the decision made in step 7, draw a conclusion about the population parameter or the research question.\n",
    "* If the null hypothesis is rejected, it suggests that there is evidence for the alternative hypothesis.\n",
    "* If the null hypothesis is not rejected, it suggests that there is no significant evidence for the alternative hypothesis.\n",
    "\n",
    "#### Report Results:\n",
    "* Clearly communicate the results of the hypothesis test, including the test statistic, p-value, decision, and conclusion, in a way that is understandable to others.\n",
    "\n",
    "#### Interpret the Findings:\n",
    "* Provide context and interpretation for the results in the context of the research question or problem being investigated.\n",
    "* Discuss the practical implications of the findings."
   ]
  },
  {
   "cell_type": "markdown",
   "id": "8f54af3b",
   "metadata": {},
   "source": []
  },
  {
   "cell_type": "markdown",
   "id": "5c71fd39",
   "metadata": {},
   "source": [
    "Q8. Define p-value and explain its significance in hypothesis testing."
   ]
  },
  {
   "cell_type": "markdown",
   "id": "0a13aeeb",
   "metadata": {},
   "source": [
    "P-value, short for \"probability value,\" is a crucial concept in hypothesis testing. It represents the probability of obtaining a test statistic as extreme as, or more extreme than, the observed value under the null hypothesis. In other words, it quantifies the evidence against the null hypothesis.\n",
    "\n",
    "#### Significance Testing:\n",
    "The p-value is used to determine the statistical significance of the results of a hypothesis test. It helps answer the question: \"Is the observed effect or difference in the sample data statistically significant?\"\n",
    "\n",
    "#### Decision Making:\n",
    "Researchers compare the p-value to a chosen significance level (α) to make a decision. Commonly used significance levels are 0.05 (5%) or 0.01 (1%). If the p-value is less than or equal to α, the null hypothesis is often rejected. If the p-value is greater than α, the null hypothesis is typically not rejected.\n",
    "\n",
    "#### Interpretation:\n",
    "A small p-value (typically less than α) suggests that the observed results are unlikely to have occurred by random chance alone. This indicates strong evidence against the null hypothesis in favor of the alternative hypothesis.\n",
    "\n",
    "#### Lack of Significance:\n",
    "A large p-value (greater than α) suggests that the observed results are consistent with what would be expected under the null hypothesis. It indicates that there is no strong evidence to reject the null hypothesis.\n",
    "\n",
    "In Short, the p-value is a measure of the strength of evidence against the null hypothesis. A smaller p-value implies stronger evidence against the null hypothesis, while a larger p-value suggests weaker evidence. Researchers use the p-value to make informed decisions about whether to reject or fail to reject the null hypothesis based on their chosen level of significance."
   ]
  },
  {
   "cell_type": "markdown",
   "id": "b2ea87af",
   "metadata": {},
   "source": []
  },
  {
   "cell_type": "markdown",
   "id": "9cafa60d",
   "metadata": {},
   "source": [
    "Q9. Generate a Student's t-distribution plot using Python's matplotlib library, with the degrees of freedom \n",
    "parameter set to 10."
   ]
  },
  {
   "cell_type": "code",
   "execution_count": 5,
   "id": "4179a843",
   "metadata": {},
   "outputs": [
    {
     "data": {
      "image/png": "[encoded data removed]",
      "text/plain": [
       "<Figure size 800x600 with 1 Axes>"
      ]
     },
     "metadata": {},
     "output_type": "display_data"
    }
   ],
   "source": [
    "import numpy as np\n",
    "import matplotlib.pyplot as plt\n",
    "from scipy.stats import t\n",
    "\n",
    "df = 10 # Degrees of freedom\n",
    "\n",
    "x = np.linspace(-3, 3, 1000)# Generating x values (range of t-values)\n",
    "\n",
    "# Calculating the probability density function (PDF) for the t-distribution\n",
    "pdf = t.pdf(x, df)\n",
    "\n",
    "# Creating the plot\n",
    "plt.figure(figsize=(8, 6))\n",
    "plt.plot(x, pdf, label=f't-Distribution (df={df})', color='red')\n",
    "plt.title(f'Student\\'s t-Distribution (df={df})')\n",
    "plt.xlabel('x')\n",
    "plt.ylabel('Probability Density')\n",
    "plt.legend()\n",
    "plt.grid(True)\n",
    "plt.show()\n"
   ]
  },
  {
   "cell_type": "markdown",
   "id": "a26282b0",
   "metadata": {},
   "source": []
  },
  {
   "cell_type": "markdown",
   "id": "85075029",
   "metadata": {},
   "source": [
    "Q10. Write a Python program to calculate the two-sample t-test for independent samples, given two \n",
    "random samples of equal size and a null hypothesis that the population means are equal."
   ]
  },
  {
   "cell_type": "code",
   "execution_count": 6,
   "id": "ebb6d4ab",
   "metadata": {},
   "outputs": [
    {
     "name": "stdout",
     "output_type": "stream",
     "text": [
      "Sample 1 Mean: 103.77324570911559\n",
      "Sample 2 Mean: 105.80834032990688\n",
      "t-statistic: -0.6318597185629486\n",
      "p-value: 0.529961311020807\n",
      "Fail to reject the null hypothesis - There is no significant difference between the population means.\n"
     ]
    }
   ],
   "source": [
    "import numpy as np\n",
    "from scipy import stats\n",
    "\n",
    "# Generating two random samples \n",
    "sample1 = np.random.normal(100, 10, size=30)  # Sample 1\n",
    "sample2 = np.random.normal(105, 12, size=30)  # Sample 2\n",
    "\n",
    "# Performing a two-sample t-test assuming equal variances (Welch's t-test)\n",
    "t_stat, p_value = stats.ttest_ind(sample1, sample2)\n",
    "\n",
    "alpha = 0.05\n",
    "\n",
    "print(\"Sample 1 Mean:\", np.mean(sample1))\n",
    "print(\"Sample 2 Mean:\", np.mean(sample2))\n",
    "print(\"t-statistic:\", t_stat)\n",
    "print(\"p-value:\", p_value)\n",
    "\n",
    "# Check if the p-value is less than alpha to determine significance\n",
    "if p_value < alpha:\n",
    "    print(\"Reject the null hypothesis - There is a significant difference between the population means.\")\n",
    "else:\n",
    "    print(\"Fail to reject the null hypothesis - There is no significant difference between the population means.\")\n"
   ]
  },
  {
   "cell_type": "markdown",
   "id": "66fc03de",
   "metadata": {},
   "source": []
  },
  {
   "cell_type": "markdown",
   "id": "1f62970b",
   "metadata": {},
   "source": [
    "Q11: What is Student’s t distribution? When to use the t-Distribution."
   ]
  },
  {
   "cell_type": "markdown",
   "id": "695600e9",
   "metadata": {},
   "source": [
    "The Student's t-distribution, often referred to as the t-distribution, is a probability distribution that is used in statistics to make inferences about population parameters, particularly when dealing with small sample sizes and when the population standard deviation is unknown. It is similar in shape to the standard normal (z) distribution but has heavier tails.\n",
    "\n",
    "### When to Use the t-Distribution:\n",
    "\n",
    "##### Small Sample Sizes:\n",
    "The t-distribution is especially useful when dealing with small sample sizes (typically less than 30) because it accounts for the increased variability in sample estimates when sample sizes are small.\n",
    "\n",
    "##### Unknown Population Standard Deviation:\n",
    "When the population standard deviation is unknown, the t-distribution is used instead of the z-distribution (standard normal distribution) because it incorporates sample standard deviations into the calculations.\n",
    "\n",
    "##### Hypothesis Testing:\n",
    "The t-distribution is commonly used in hypothesis testing, especially when conducting t-tests to compare sample means or to estimate population means from sample data.\n",
    "\n",
    "##### Confidence Intervals:\n",
    "It is used to construct confidence intervals for population parameters, such as the mean, when the sample size is small or when the population standard deviation is unknown.\n",
    "\n",
    "In short, the t-distribution is employed in situations where you have limited sample data, the population standard deviation is not known, and you need to make statistical inferences or conduct hypothesis tests. It accounts for the added uncertainty associated with smaller sample sizes, providing a more accurate representation of the distribution of sample statistics.\n",
    "\n",
    "\n",
    "\n",
    "\n"
   ]
  },
  {
   "cell_type": "markdown",
   "id": "0a63296f",
   "metadata": {},
   "source": []
  },
  {
   "cell_type": "markdown",
   "id": "1c137c3b",
   "metadata": {},
   "source": [
    "Q12: What is t-statistic? State the formula for t-statistic."
   ]
  },
  {
   "attachments": {
    "t.png": {
     "image/png": "[encoded data removed]"
    }
   },
   "cell_type": "markdown",
   "id": "23f50aa1",
   "metadata": {},
   "source": [
    "The t-statistic (also known as the t-value) is a measure of how many standard errors a sample statistic is away from the hypothesized population parameter. It is used in hypothesis testing to determine whether the difference between a sample statistic and the population parameter is statistically significant. The t-statistic is particularly important when dealing with small sample sizes and when the population standard deviation is unknown.\n",
    "\n",
    "The formula for the t-statistic for testing a sample mean against a hypothesized population mean (μ) is as follows:\n",
    "\n",
    "![t.png](attachment:t.png)\n",
    "\n",
    "The t-statistic quantifies how many standard errors the sample mean is away from the hypothesized population mean. A larger t-statistic suggests a greater difference between the sample mean and the hypothesized population mean, and if it is significantly different, it may lead to the rejection of the null hypothesis in favor of the alternative hypothesis. The significance of the t-statistic is assessed by comparing it to critical values from the t-distribution or by calculating a p-value.\n"
   ]
  },
  {
   "cell_type": "markdown",
   "id": "a492ff90",
   "metadata": {},
   "source": []
  },
  {
   "cell_type": "markdown",
   "id": "434fca91",
   "metadata": {},
   "source": [
    "Q13. A coffee shop owner wants to estimate the average daily revenue for their shop. They take a random \n",
    "sample of 50 days and find the sample mean revenue to be $500 \n",
    "with a standard deviation of  $50. \n",
    "Estimate the population mean revenue with a 95% confidence interval."
   ]
  },
  {
   "attachments": {
    "CI.png": {
     "image/png": "[encoded data removed]"
    }
   },
   "cell_type": "markdown",
   "id": "388912de",
   "metadata": {},
   "source": [
    "To estimate the population mean revenue with a 95% confidence interval, you can use the formula for a confidence interval for the population mean when the population standard deviation is unknown. The formula is based on the t-distribution and is as follows:\n",
    "\n",
    "![CI.png](attachment:CI.png)"
   ]
  },
  {
   "cell_type": "code",
   "execution_count": 11,
   "id": "c9ce41f6",
   "metadata": {},
   "outputs": [
    {
     "name": "stdout",
     "output_type": "stream",
     "text": [
      "95% Confidence Interval for Mean Revenue: $485.79 to $514.21\n"
     ]
    }
   ],
   "source": [
    "import numpy as np\n",
    "from scipy import stats\n",
    "\n",
    "# Given data\n",
    "sample_mean = 500  # Sample mean revenue in dollars\n",
    "sample_std_dev = 50  # Sample standard deviation in dollars\n",
    "sample_size = 50 \n",
    "\n",
    "# Significance level (alpha) for a 95% confidence interval\n",
    "alpha = 0.05\n",
    "\n",
    "# Calculating the critical t-value\n",
    "degrees_of_freedom = sample_size - 1\n",
    "t_critical = stats.t.ppf(1 - alpha / 2, df=degrees_of_freedom)\n",
    "\n",
    "# Calculating the margin of error\n",
    "margin_of_error = t_critical * (sample_std_dev / np.sqrt(sample_size))\n",
    "\n",
    "# Calculating the confidence interval\n",
    "confidence_interval = (sample_mean - margin_of_error, sample_mean + margin_of_error)\n",
    "\n",
    "# Print the results\n",
    "print(f\"95% Confidence Interval for Mean Revenue: ${confidence_interval[0]:.2f} to ${confidence_interval[1]:.2f}\")\n"
   ]
  },
  {
   "cell_type": "markdown",
   "id": "4b535f03",
   "metadata": {},
   "source": []
  },
  {
   "cell_type": "markdown",
   "id": "46c8e685",
   "metadata": {},
   "source": [
    "Q14. A researcher hypothesizes that a new drug will decrease blood pressure by 10 mmHg. They conduct a \n",
    "clinical trial with 100 patients and find that the sample mean decrease in blood pressure is 8 mmHg with a \n",
    "standard deviation of 3 mmHg. Test the hypothesis with a significance level of 0.05."
   ]
  },
  {
   "attachments": {
    "t.png": {
     "image/png": "[encoded data removed]"
    }
   },
   "cell_type": "markdown",
   "id": "cada86be",
   "metadata": {},
   "source": [
    "To test the hypothesis that the new drug decreases blood pressure by 10 mmHg, we can perform a one-sample t-test for a population mean with a one-tailed test at a significance level of 0.05. \n",
    "\n",
    "### Step 1: Define the Hypotheses:\n",
    "* Null Hypothesis (H0): The new drug does not decrease blood pressure by 10 mmHg (true mean difference is 0 mmHg).\n",
    "* Alternative Hypothesis (Ha): The new drug decreases blood pressure by 10 mmHg (true mean difference is less than 0 mmHg).\n",
    "\n",
    "### Step 2: Set the Significance Level:\n",
    "Significance level (α) is given as 0.05.\n",
    "\n",
    "### Step 3: Perform the t-Test:\n",
    "The formula for the one-sample t-test is as follows:\n",
    "\n",
    "![t.png](attachment:t.png)"
   ]
  },
  {
   "cell_type": "code",
   "execution_count": 10,
   "id": "ca725160",
   "metadata": {},
   "outputs": [
    {
     "name": "stdout",
     "output_type": "stream",
     "text": [
      "Reject the null hypothesis - The new drug decreases blood pressure by 10 mmHg.\n",
      "t-statistic: -6.666666666666667\n",
      "Critical t-value: -1.6603911559963902\n"
     ]
    }
   ],
   "source": [
    "import numpy as np\n",
    "from scipy import stats\n",
    "\n",
    "# Given data\n",
    "hypothesized_mean_difference = 10  # Hypothesized population mean difference\n",
    "sample_mean_difference = 8  \n",
    "sample_std_dev = 3  \n",
    "sample_size = 100  \n",
    "\n",
    "# Significance level (alpha)\n",
    "alpha = 0.05\n",
    "\n",
    "# Calculate the test statistic\n",
    "numerator = sample_mean_difference - hypothesized_mean_difference\n",
    "denominator = sample_std_dev / np.sqrt(sample_size)\n",
    "t_stat = numerator / denominator\n",
    "\n",
    "# Degrees of freedom\n",
    "df = sample_size - 1\n",
    "\n",
    "# Calculate the critical t-value for a one-tailed test (left-tail)\n",
    "t_critical = stats.t.ppf(alpha, df=df)\n",
    "\n",
    "# Step 5: Compare the test statistic to the critical value\n",
    "if t_stat < t_critical:\n",
    "    print(\"Reject the null hypothesis - The new drug decreases blood pressure by 10 mmHg.\")\n",
    "else:\n",
    "    print(\"Fail to reject the null hypothesis - There is no significant evidence that the new drug decreases blood pressure by 10 mmHg.\")\n",
    "\n",
    "\n",
    "print(\"t-statistic:\", t_stat)\n",
    "print(\"Critical t-value:\", t_critical)\n"
   ]
  },
  {
   "cell_type": "markdown",
   "id": "c29a2794",
   "metadata": {},
   "source": []
  },
  {
   "cell_type": "markdown",
   "id": "ee8cb13a",
   "metadata": {},
   "source": [
    "Q15. An electronics company produces a certain type of product with a mean weight of 5 pounds and a \n",
    "standard deviation of 0.5 pounds. A random sample of 25 products is taken, and the sample mean weight \n",
    "is found to be 4.8 pounds. Test the hypothesis that the true mean weight of the products is less than 5 \n",
    "pounds with a significance level of 0.01"
   ]
  },
  {
   "attachments": {
    "t.png": {
     "image/png": "[encoded data removed]"
    }
   },
   "cell_type": "markdown",
   "id": "a9ce58c8",
   "metadata": {},
   "source": [
    "\n",
    "To test the hypothesis that the true mean weight of the products is less than 5 pounds, you can perform a one-sample t-test for a population mean with a one-tailed test at a significance level of 0.01. Here are the steps and Python code to conduct the test:\n",
    "\n",
    "### Step 1: Define the Hypotheses:\n",
    "* Null Hypothesis (H0): The true mean weight of the products is equal to 5 pounds.\n",
    "* Alternative Hypothesis (Ha): The true mean weight of the products is less than 5 pounds.\n",
    "\n",
    "### Step 2: Set the Significance Level:\n",
    "Significance level (α) is given as 0.01.\n",
    "\n",
    "### Step 3: Perform the t-Test:\n",
    "The formula for the one-sample t-test is as follows:\n",
    "\n",
    "![t.png](attachment:t.png)\n"
   ]
  },
  {
   "cell_type": "code",
   "execution_count": 9,
   "id": "f3302dea",
   "metadata": {},
   "outputs": [
    {
     "name": "stdout",
     "output_type": "stream",
     "text": [
      "Fail to reject the null hypothesis - There is no significant evidence that the true mean weight is less than 5 pounds.\n",
      "t-statistic: -2.0000000000000018\n",
      "Critical t-value: -2.4921594731575762\n"
     ]
    }
   ],
   "source": [
    "import numpy as np\n",
    "from scipy import stats\n",
    "\n",
    "# Given data\n",
    "population_mean = 5  # Hypothesized population mean\n",
    "sample_mean = 4.8  \n",
    "sample_std_dev = 0.5\n",
    "sample_size = 25  \n",
    "\n",
    "# Significance level (alpha)\n",
    "alpha = 0.01\n",
    "\n",
    "# Calculating the test statistic\n",
    "numerator = sample_mean - population_mean\n",
    "denominator = sample_std_dev / np.sqrt(sample_size)\n",
    "t_stat = numerator / denominator\n",
    "\n",
    "# Degrees of freedom\n",
    "df = sample_size - 1\n",
    "\n",
    "# Calculate the critical t-value for a one-tailed test (left-tail)\n",
    "t_critical = stats.t.ppf(alpha, df=df)\n",
    "\n",
    "# Step 5: Compare the test statistic to the critical value\n",
    "if t_stat < t_critical:\n",
    "    print(\"Reject the null hypothesis - The true mean weight is less than 5 pounds.\")\n",
    "else:\n",
    "    print(\"Fail to reject the null hypothesis - There is no significant evidence that the true mean weight is less than 5 pounds.\")\n",
    "\n",
    "\n",
    "print(\"t-statistic:\", t_stat)\n",
    "print(\"Critical t-value:\", t_critical)\n"
   ]
  },
  {
   "cell_type": "markdown",
   "id": "c90a1a20",
   "metadata": {},
   "source": []
  },
  {
   "cell_type": "markdown",
   "id": "bab0385e",
   "metadata": {},
   "source": [
    "Q16. Two groups of students are given different study materials to prepare for a test. The first group (n1 = \n",
    "30) has a mean score of 80 with a standard deviation of 10, and the second group (n2 = 40) has a mean \n",
    "score of 75 with a standard deviation of 8. Test the hypothesis that the population means for the two \n",
    "groups are equal with a significance level of 0.01."
   ]
  },
  {
   "attachments": {
    "t-test.png": {
     "image/png": "[encoded data removed]"
    }
   },
   "cell_type": "markdown",
   "id": "0280c86d",
   "metadata": {},
   "source": [
    "### Step 1: Define the Hypotheses:\n",
    "* Null Hypothesis (H0): The population means for the two groups are equal.\n",
    "* Alternative Hypothesis (Ha): The population means for the two groups are not equal.\n",
    "\n",
    "### Step 2: Set the Significance Level:\n",
    "Significance level (α) is given as 0.01.\n",
    "\n",
    "### Step 3: Perform the t-Test:\n",
    "The formula for the two-sample t-test is as follows:\n",
    "\n",
    "![t-test.png](attachment:t-test.png)\n"
   ]
  },
  {
   "cell_type": "code",
   "execution_count": 8,
   "id": "4717e189",
   "metadata": {},
   "outputs": [
    {
     "name": "stdout",
     "output_type": "stream",
     "text": [
      "Fail to reject the null hypothesis - The population means are equal.\n",
      "t-statistic: 2.2511258444537408\n",
      "Critical t-value: 2.6500812928169553\n"
     ]
    }
   ],
   "source": [
    "import numpy as np\n",
    "from scipy import stats\n",
    "\n",
    "# Given data for Group 1\n",
    "mean1 = 80\n",
    "std_dev1 = 10\n",
    "n1 = 30\n",
    "\n",
    "# Given data for Group 2\n",
    "mean2 = 75\n",
    "std_dev2 = 8\n",
    "n2 = 40\n",
    "\n",
    "# Significance level (alpha)\n",
    "alpha = 0.01\n",
    "\n",
    "# Calculating the test statistic\n",
    "numerator = mean1 - mean2\n",
    "denominator = np.sqrt((std_dev1**2 / n1) + (std_dev2**2 / n2))\n",
    "t_stat = numerator / denominator\n",
    "\n",
    "# Degrees of freedom\n",
    "df = n1 + n2 - 2\n",
    "\n",
    "# Calculate the critical t-value for a two-tailed test\n",
    "t_critical = stats.t.ppf(1 - alpha / 2, df=df)\n",
    "\n",
    "# Step 5: Compare the test statistic to the critical value\n",
    "if abs(t_stat) > t_critical:\n",
    "    print(\"Reject the null hypothesis - The population means are not equal.\")\n",
    "else:\n",
    "    print(\"Fail to reject the null hypothesis - The population means are equal.\")\n",
    "\n",
    "\n",
    "    print(\"t-statistic:\", t_stat)\n",
    "print(\"Critical t-value:\", t_critical)\n"
   ]
  },
  {
   "cell_type": "markdown",
   "id": "4b22b718",
   "metadata": {},
   "source": []
  },
  {
   "cell_type": "markdown",
   "id": "515b7ab1",
   "metadata": {},
   "source": [
    "Q17. A marketing company wants to estimate the average number of ads watched by viewers during a TV \n",
    "program. They take a random sample of 50 viewers and find that the sample mean is 4 with a standard \n",
    "deviation of 1.5. Estimate the population mean with a 99% confidence interval."
   ]
  },
  {
   "attachments": {
    "CI.png": {
     "image/png": "[encoded data removed]"
    }
   },
   "cell_type": "markdown",
   "id": "31c5d698",
   "metadata": {},
   "source": [
    "![CI.png](attachment:CI.png)"
   ]
  },
  {
   "cell_type": "code",
   "execution_count": 7,
   "id": "333b297d",
   "metadata": {},
   "outputs": [
    {
     "name": "stdout",
     "output_type": "stream",
     "text": [
      "Sample Mean Number of Ads Watched: 4\n",
      "99% Confidence Interval: 3.43 to 4.57\n"
     ]
    }
   ],
   "source": [
    "import numpy as np\n",
    "from scipy import stats\n",
    "\n",
    "# Given data\n",
    "sample_mean = 4 \n",
    "sample_std_dev = 1.5  \n",
    "sample_size = 50  \n",
    "confidence_level = 0.99  \n",
    "\n",
    "# Calculating the critical t-value\n",
    "alpha = 1 - confidence_level\n",
    "degrees_of_freedom = sample_size - 1\n",
    "t_critical = stats.t.ppf(1 - alpha / 2, df=degrees_of_freedom)\n",
    "\n",
    "# Calculating the margin of error\n",
    "margin_of_error = t_critical * (sample_std_dev / np.sqrt(sample_size))\n",
    "\n",
    "# Calculating the confidence interval\n",
    "confidence_interval = (sample_mean - margin_of_error, sample_mean + margin_of_error)\n",
    "\n",
    "print(\"Sample Mean Number of Ads Watched: 4\")\n",
    "print(f\"99% Confidence Interval: {confidence_interval[0]:.2f} to {confidence_interval[1]:.2f}\")\n"
   ]
  },
  {
   "cell_type": "markdown",
   "id": "d582aa77",
   "metadata": {},
   "source": []
  }
 ],
 "metadata": {
  "kernelspec": {
   "display_name": "Python 3 (ipykernel)",
   "language": "python",
   "name": "python3"
  },
  "language_info": {
   "codemirror_mode": {
    "name": "ipython",
    "version": 3
   },
   "file_extension": ".py",
   "mimetype": "text/x-python",
   "name": "python",
   "nbconvert_exporter": "python",
   "pygments_lexer": "ipython3",
   "version": "3.11.4"
  }
 },
 "nbformat": 4,
 "nbformat_minor": 5
}
